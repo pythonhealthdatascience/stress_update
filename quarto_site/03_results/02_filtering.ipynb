{
 "cells": [
  {
   "cell_type": "markdown",
   "id": "a39ab7a7-655e-4720-a5ff-5e650a7435a8",
   "metadata": {},
   "source": [
    "# Filtering application studies\n",
    "\n",
    "This notebook filters the main dataset to only include empirical studies that apply the STRESS guidelines to documenting a computer simulation model."
   ]
  },
  {
   "cell_type": "markdown",
   "id": "e8da03ce-cb73-4aee-bf1d-724432f8bbf0",
   "metadata": {},
   "source": [
    "## 1. Imports\n",
    "\n",
    "### 1.1 Standard imports"
   ]
  },
  {
   "cell_type": "code",
   "execution_count": 1,
   "id": "182c2308-5050-4207-8372-cdfaaf9d0c6d",
   "metadata": {},
   "outputs": [],
   "source": [
    "import numpy as np\n",
    "import pandas as pd"
   ]
  },
  {
   "cell_type": "markdown",
   "id": "d6fe553e-eaae-42d3-a3cf-5c7632913251",
   "metadata": {},
   "source": [
    "### 1.2 Review preprocessing imports\n",
    "\n",
    "For convenience, the data pipeline described in [the pre-processing notebook](./01_cleaning.ipynb) can be imported for in a local Python module `data_pipeline.py`"
   ]
  },
  {
   "cell_type": "code",
   "execution_count": 2,
   "id": "5254dfa5-a909-430e-9c11-b9eedfd94ecb",
   "metadata": {},
   "outputs": [],
   "source": [
    "from data_pipeline import load_review_dataset"
   ]
  },
  {
   "cell_type": "markdown",
   "id": "4217e823-12fa-4dd0-aeba-ff6a2ee2ba3e",
   "metadata": {},
   "source": [
    "## 2. Constants\n",
    "\n",
    "Constants in this notebook are used for the filtering of application studies."
   ]
  },
  {
   "cell_type": "code",
   "execution_count": 3,
   "id": "d1b5cef2-9f86-4cba-967e-6b10924194a5",
   "metadata": {},
   "outputs": [],
   "source": [
    "APP_FILTER_COLUMN_NAME = \"used\"\n",
    "APP_FILTER_VALUE = \"Yes\""
   ]
  },
  {
   "cell_type": "markdown",
   "id": "5d0c8609-057f-4cdd-b551-6796bef8694b",
   "metadata": {},
   "source": [
    "## 2. Function to filter to empirical application studies only \n",
    "\n",
    "The main review dataset contains a Yes/No categorical column called `used`. The **Yes** category indicates that this was an empirical study where STRESS was applied to document a model. "
   ]
  },
  {
   "cell_type": "code",
   "execution_count": 4,
   "id": "f62119aa-2322-4af7-807b-1f4ceeb96dde",
   "metadata": {},
   "outputs": [],
   "source": [
    "def filter_to_application_studies(clean_df: pd.DataFrame) -> pd.DataFrame:\n",
    "    \"\"\"Filter the cleaned dataset down to studies that used stress to report\n",
    "    a simulation study.\n",
    "\n",
    "    Parameters:\n",
    "    ----------\n",
    "    clean_df: pd.DataFrame\n",
    "        Review dataframe. The main assumption is that this has passed through\n",
    "        the main cleaning pipeline\n",
    "\n",
    "    Returns:\n",
    "    -------\n",
    "    out: pd.DataFrame\n",
    "    \"\"\"\n",
    "    # Used?: a Yes/No variable.\n",
    "    filtered_df = clean_df[\n",
    "        clean_df[APP_FILTER_COLUMN_NAME] == APP_FILTER_VALUE\n",
    "    ]    \n",
    "    return filtered_df"
   ]
  },
  {
   "cell_type": "markdown",
   "id": "42881200-0e05-478c-90ae-b8edc8910dae",
   "metadata": {},
   "source": [
    "## 3. Example use and number of returned studies "
   ]
  },
  {
   "cell_type": "code",
   "execution_count": 5,
   "id": "507c9ee4-8d43-4beb-bd33-14ee11aaf7ae",
   "metadata": {},
   "outputs": [
    {
     "data": {
      "text/plain": [
       "(73, 25)"
      ]
     },
     "execution_count": 5,
     "metadata": {},
     "output_type": "execute_result"
    }
   ],
   "source": [
    "empirical_studies = (\n",
    "    load_review_dataset()\n",
    "    .pipe(filter_to_application_studies)\n",
    ")\n",
    "empirical_studies.shape"
   ]
  },
  {
   "cell_type": "code",
   "execution_count": 6,
   "id": "0999f612-0116-4a1f-ad82-d43654b0afe1",
   "metadata": {},
   "outputs": [
    {
     "data": {
      "text/html": [
       "<div>\n",
       "<style scoped>\n",
       "    .dataframe tbody tr th:only-of-type {\n",
       "        vertical-align: middle;\n",
       "    }\n",
       "\n",
       "    .dataframe tbody tr th {\n",
       "        vertical-align: top;\n",
       "    }\n",
       "\n",
       "    .dataframe thead th {\n",
       "        text-align: right;\n",
       "    }\n",
       "</style>\n",
       "<table border=\"1\" class=\"dataframe\">\n",
       "  <thead>\n",
       "    <tr style=\"text-align: right;\">\n",
       "      <th>No</th>\n",
       "      <th>5</th>\n",
       "      <th>8</th>\n",
       "    </tr>\n",
       "  </thead>\n",
       "  <tbody>\n",
       "    <tr>\n",
       "      <th>publication</th>\n",
       "      <td>Estimation of Viral Aerosol Emissions From Sim...</td>\n",
       "      <td>Developing sustainable tourism destinations th...</td>\n",
       "    </tr>\n",
       "    <tr>\n",
       "      <th>authors</th>\n",
       "      <td>Riediker Michael, Dai-Hua Tsai</td>\n",
       "      <td>Shafiee Sanaz, Saeed Jahanyan, Ali Rajabzadeh ...</td>\n",
       "    </tr>\n",
       "    <tr>\n",
       "      <th>year</th>\n",
       "      <td>2020</td>\n",
       "      <td>2023</td>\n",
       "    </tr>\n",
       "    <tr>\n",
       "      <th>type_of_paper</th>\n",
       "      <td>Journal</td>\n",
       "      <td>Journal</td>\n",
       "    </tr>\n",
       "    <tr>\n",
       "      <th>journal</th>\n",
       "      <td>JAMA</td>\n",
       "      <td>Journal of Simulation</td>\n",
       "    </tr>\n",
       "    <tr>\n",
       "      <th>name_of_univerity</th>\n",
       "      <td>-</td>\n",
       "      <td>-</td>\n",
       "    </tr>\n",
       "    <tr>\n",
       "      <th>type_of_study</th>\n",
       "      <td>Empirical</td>\n",
       "      <td>Empirical</td>\n",
       "    </tr>\n",
       "    <tr>\n",
       "      <th>pre_prints</th>\n",
       "      <td>No</td>\n",
       "      <td>No</td>\n",
       "    </tr>\n",
       "    <tr>\n",
       "      <th>doi</th>\n",
       "      <td>https://jamanetwork.com/journals/jamanetworkop...</td>\n",
       "      <td>https://www.tandfonline.com/doi/pdf/10.1080/17...</td>\n",
       "    </tr>\n",
       "    <tr>\n",
       "      <th>used</th>\n",
       "      <td>Yes</td>\n",
       "      <td>Yes</td>\n",
       "    </tr>\n",
       "    <tr>\n",
       "      <th>partially</th>\n",
       "      <td>Yes</td>\n",
       "      <td>Yes</td>\n",
       "    </tr>\n",
       "    <tr>\n",
       "      <th>target_authors</th>\n",
       "      <td>No</td>\n",
       "      <td>No</td>\n",
       "    </tr>\n",
       "    <tr>\n",
       "      <th>method</th>\n",
       "      <td>Monte Carlo</td>\n",
       "      <td>SD</td>\n",
       "    </tr>\n",
       "    <tr>\n",
       "      <th>hybridisation</th>\n",
       "      <td>NaN</td>\n",
       "      <td>NaN</td>\n",
       "    </tr>\n",
       "    <tr>\n",
       "      <th>stress_objectives</th>\n",
       "      <td>Purpose</td>\n",
       "      <td>Yes</td>\n",
       "    </tr>\n",
       "    <tr>\n",
       "      <th>stress_logic</th>\n",
       "      <td>No</td>\n",
       "      <td>Yes</td>\n",
       "    </tr>\n",
       "    <tr>\n",
       "      <th>stress_logic</th>\n",
       "      <td>Data sources, input parameters</td>\n",
       "      <td>Date sources, and input parameters</td>\n",
       "    </tr>\n",
       "    <tr>\n",
       "      <th>stress_exp</th>\n",
       "      <td>No</td>\n",
       "      <td>Initialisation</td>\n",
       "    </tr>\n",
       "    <tr>\n",
       "      <th>stress_imp</th>\n",
       "      <td>No</td>\n",
       "      <td>Software</td>\n",
       "    </tr>\n",
       "    <tr>\n",
       "      <th>stress_code</th>\n",
       "      <td>No</td>\n",
       "      <td>No</td>\n",
       "    </tr>\n",
       "    <tr>\n",
       "      <th>source_code_access</th>\n",
       "      <td>No</td>\n",
       "      <td>No</td>\n",
       "    </tr>\n",
       "    <tr>\n",
       "      <th>software</th>\n",
       "      <td>Unknown</td>\n",
       "      <td>Vensim</td>\n",
       "    </tr>\n",
       "    <tr>\n",
       "      <th>application_area</th>\n",
       "      <td>Healthcare</td>\n",
       "      <td>Hospitality and Tourism</td>\n",
       "    </tr>\n",
       "    <tr>\n",
       "      <th>case_study</th>\n",
       "      <td>COVID-19 transmission</td>\n",
       "      <td>Evaluating different policies for sustainable ...</td>\n",
       "    </tr>\n",
       "    <tr>\n",
       "      <th>stress_implementation</th>\n",
       "      <td>Unstructured - Main text</td>\n",
       "      <td>Unstructured - Appendix</td>\n",
       "    </tr>\n",
       "  </tbody>\n",
       "</table>\n",
       "</div>"
      ],
      "text/plain": [
       "No                                                                     5  \\\n",
       "publication            Estimation of Viral Aerosol Emissions From Sim...   \n",
       "authors                                   Riediker Michael, Dai-Hua Tsai   \n",
       "year                                                                2020   \n",
       "type_of_paper                                                    Journal   \n",
       "journal                                                             JAMA   \n",
       "name_of_univerity                                                      -   \n",
       "type_of_study                                                  Empirical   \n",
       "pre_prints                                                            No   \n",
       "doi                    https://jamanetwork.com/journals/jamanetworkop...   \n",
       "used                                                                 Yes   \n",
       "partially                                                            Yes   \n",
       "target_authors                                                        No   \n",
       "method                                                       Monte Carlo   \n",
       "hybridisation                                                        NaN   \n",
       "stress_objectives                                                Purpose   \n",
       "stress_logic                                                          No   \n",
       "stress_logic                              Data sources, input parameters   \n",
       "stress_exp                                                            No   \n",
       "stress_imp                                                            No   \n",
       "stress_code                                                           No   \n",
       "source_code_access                                                    No   \n",
       "software                                                         Unknown   \n",
       "application_area                                              Healthcare   \n",
       "case_study                                         COVID-19 transmission   \n",
       "stress_implementation                           Unstructured - Main text   \n",
       "\n",
       "No                                                                     8  \n",
       "publication            Developing sustainable tourism destinations th...  \n",
       "authors                Shafiee Sanaz, Saeed Jahanyan, Ali Rajabzadeh ...  \n",
       "year                                                                2023  \n",
       "type_of_paper                                                    Journal  \n",
       "journal                                            Journal of Simulation  \n",
       "name_of_univerity                                                      -  \n",
       "type_of_study                                                  Empirical  \n",
       "pre_prints                                                            No  \n",
       "doi                    https://www.tandfonline.com/doi/pdf/10.1080/17...  \n",
       "used                                                                 Yes  \n",
       "partially                                                            Yes  \n",
       "target_authors                                                        No  \n",
       "method                                                                SD  \n",
       "hybridisation                                                        NaN  \n",
       "stress_objectives                                                    Yes  \n",
       "stress_logic                                                         Yes  \n",
       "stress_logic                          Date sources, and input parameters  \n",
       "stress_exp                                                Initialisation  \n",
       "stress_imp                                                      Software  \n",
       "stress_code                                                           No  \n",
       "source_code_access                                                    No  \n",
       "software                                                          Vensim  \n",
       "application_area                                 Hospitality and Tourism  \n",
       "case_study             Evaluating different policies for sustainable ...  \n",
       "stress_implementation                            Unstructured - Appendix  "
      ]
     },
     "execution_count": 6,
     "metadata": {},
     "output_type": "execute_result"
    }
   ],
   "source": [
    "empirical_studies.head(2).T"
   ]
  }
 ],
 "metadata": {
  "kernelspec": {
   "display_name": "Python 3 (ipykernel)",
   "language": "python",
   "name": "python3"
  },
  "language_info": {
   "codemirror_mode": {
    "name": "ipython",
    "version": 3
   },
   "file_extension": ".py",
   "mimetype": "text/x-python",
   "name": "python",
   "nbconvert_exporter": "python",
   "pygments_lexer": "ipython3",
   "version": "3.11.10"
  }
 },
 "nbformat": 4,
 "nbformat_minor": 5
}
