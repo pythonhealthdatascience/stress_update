{
 "cells": [
  {
   "cell_type": "markdown",
   "metadata": {},
   "source": [
    "# Analysis \n",
    "\n",
    "> **WORK IN PROGRESS** Please note that the analysis in this notebook is subject to change as the review evolves.\n",
    "\n",
    "This notebook contains the Python script that analyses the data extracted from the STRESS review."
   ]
  },
  {
   "cell_type": "markdown",
   "metadata": {},
   "source": [
    "## 1. Imports\n",
    "\n",
    "### 1.1 Standard imports"
   ]
  },
  {
   "cell_type": "code",
   "execution_count": 1,
   "metadata": {},
   "outputs": [],
   "source": [
    "import pandas as pd\n",
    "import numpy as np\n",
    "import matplotlib.pyplot as plt\n",
    "\n",
    "from typing import Optional\n",
    "\n",
    "# use gglot style for all matplotlib\n",
    "plt.style.use(\"ggplot\")"
   ]
  },
  {
   "cell_type": "markdown",
   "metadata": {},
   "source": [
    "### 1.2 Review pipeline imports"
   ]
  },
  {
   "cell_type": "code",
   "execution_count": 2,
   "metadata": {},
   "outputs": [],
   "source": [
    "from data_pipeline import load_review_dataset, filter_to_application_studies"
   ]
  },
  {
   "cell_type": "markdown",
   "metadata": {},
   "source": [
    "## 2. Constants"
   ]
  },
  {
   "cell_type": "code",
   "execution_count": 3,
   "metadata": {},
   "outputs": [],
   "source": [
    "# N/A"
   ]
  },
  {
   "cell_type": "markdown",
   "metadata": {},
   "source": [
    "## 3. Utility functions\n",
    "\n",
    "Some simple functions repeatedly used for plotting or analysing datasets."
   ]
  },
  {
   "cell_type": "code",
   "execution_count": 4,
   "metadata": {},
   "outputs": [],
   "source": [
    "# | code-fold: true\n",
    "def frequency_bar_chart(\n",
    "    data: pd.DataFrame,\n",
    "    x_label: str,\n",
    "    y_label: Optional[str] = \"Frequency\",\n",
    "    rotate_x_ticks: Optional[int] = 0,\n",
    "    figsize: Optional[int | int] = (12, 6),\n",
    "):\n",
    "    \"\"\"\n",
    "    Create bar chart of the selected categorical variable.\n",
    "    Returns matplotlib figure and axis.\n",
    "\n",
    "    Parameters:\n",
    "    ---------\n",
    "    data: pd.DataFrame\n",
    "       Frequency dataset for bar chart\n",
    "\n",
    "    x_label: str\n",
    "        Label to display on x-axis\n",
    "\n",
    "    y_label: str, optional (default = \"Frequency\")\n",
    "        Label to display on y-axis\n",
    "\n",
    "    rotate_x_ticks: int, optional (default = 0)\n",
    "        Degress to rotate the x axis text (0 for no rotation)\n",
    "\n",
    "    figsize: Tuple(int, int), optional (default=(12,6)\n",
    "        The size of the matplotlib picture.\n",
    "\n",
    "    Returns:\n",
    "    -------\n",
    "    out: fig and axis of plot\n",
    "    \"\"\"\n",
    "\n",
    "    fig = plt.figure(figsize=figsize)\n",
    "    ax = fig.add_subplot()\n",
    "\n",
    "    ax = data.plot(kind=\"bar\", ax=ax)\n",
    "\n",
    "    _ = ax.set_xlabel(x_label)\n",
    "    _ = ax.set_ylabel(y_label)\n",
    "\n",
    "    # Add data labels on the bars\n",
    "    _ = ax.bar_label(ax.containers[0], label_type=\"edge\", padding=3)\n",
    "\n",
    "    # rotate x axis text\n",
    "    _ = plt.xticks(rotation=rotate_x_ticks)\n",
    "\n",
    "    return fig, ax"
   ]
  },
  {
   "cell_type": "markdown",
   "metadata": {},
   "source": [
    "## 4. Read and clean review data"
   ]
  },
  {
   "cell_type": "code",
   "execution_count": 5,
   "metadata": {},
   "outputs": [],
   "source": [
    "clean_review = load_review_dataset()"
   ]
  },
  {
   "cell_type": "code",
   "execution_count": 6,
   "metadata": {},
   "outputs": [
    {
     "data": {
      "text/plain": [
       "(165, 25)"
      ]
     },
     "execution_count": 6,
     "metadata": {},
     "output_type": "execute_result"
    }
   ],
   "source": [
    "# rows and columns n's\n",
    "clean_review.shape"
   ]
  },
  {
   "cell_type": "markdown",
   "metadata": {},
   "source": [
    "## 5. Filter to empirical studies only \n",
    "\n",
    "Here we separate the studies that have used the STRESS guidelines in second dataframe i.e. limit to studies that have used STRESS for documenting a model. This is stored in a notebook level variable called `empirical_studies`\n",
    "\n",
    "> **Reminder**: Filtering is done using the 'used' field.  Details are available in the [filtering notebook](./02_filtering)"
   ]
  },
  {
   "cell_type": "code",
   "execution_count": 7,
   "metadata": {},
   "outputs": [],
   "source": [
    "empirical_studies = filter_to_application_studies(clean_review)"
   ]
  },
  {
   "cell_type": "code",
   "execution_count": 8,
   "metadata": {},
   "outputs": [
    {
     "data": {
      "text/plain": [
       "(73, 25)"
      ]
     },
     "execution_count": 8,
     "metadata": {},
     "output_type": "execute_result"
    }
   ],
   "source": [
    "# number of studies that used STRESS as intended i.e. to document\n",
    "empirical_studies.shape"
   ]
  },
  {
   "cell_type": "markdown",
   "metadata": {},
   "source": [
    "## 6. Results\n",
    "\n",
    "### Year of publication\n",
    "\n",
    "\n",
    "::: {.callout-note collapse=\"true\"}\n",
    "## TM notes for additional analysis\n",
    "\n",
    "* **TM Query (1)**: 2024 obviously partial, as it will take us a while to do this study we should update again in 2025 to get all 2024 papers if we can\n",
    "\n",
    "*  **TM Query (2)**: WE should prob show no. citations OVERALL by year as well\n",
    ":::\n"
   ]
  },
  {
   "cell_type": "code",
   "execution_count": 9,
   "metadata": {},
   "outputs": [],
   "source": [
    "def figure_1(data: pd.DataFrame, figsize: Optional[int | int] = (12, 6)):\n",
    "    \"\"\"\n",
    "    Create bar chart of publications by year (ordered)\n",
    "\n",
    "    Parameters:\n",
    "    ---------\n",
    "    data: pd.DataFrame\n",
    "        The cleaned + filtered review data to plot\n",
    "\n",
    "    figsize = Tuple(int, int)\n",
    "        Size of matplotlib figure\n",
    "\n",
    "    Returns:\n",
    "    -------\n",
    "    out: fig and axis of plot\n",
    "    \"\"\"\n",
    "\n",
    "    # The frequency of papers that have used STRESS guidelines\n",
    "    # based on the publication year\n",
    "    year_freq = data[\"year\"].value_counts(dropna=False).sort_index(ascending=True)\n",
    "\n",
    "    return frequency_bar_chart(\n",
    "        data=year_freq, x_label=\"Year\", y_label=\"Publications\"\n",
    "    )"
   ]
  },
  {
   "cell_type": "code",
   "execution_count": 10,
   "metadata": {},
   "outputs": [
    {
     "data": {
      "image/png": "[encoded data removed]",
      "text/plain": [
       "<Figure size 1200x600 with 1 Axes>"
      ]
     },
     "metadata": {},
     "output_type": "display_data"
    }
   ],
   "source": [
    "fig, ax = figure_1(empirical_studies, False)\n",
    "fig.savefig(\"./figures/figure_1.png\", dpi=300, bbox_inches=\"tight\")\n",
    "_ = fig.suptitle(\"Fig 1. Frequency of Empirical Papers over Time\")"
   ]
  },
  {
   "cell_type": "markdown",
   "metadata": {},
   "source": [
    "### Simulation method \n",
    "\n",
    "::: {.callout-note collapse=\"true\"}\n",
    "## Data notes\n",
    "\n",
    "Hybrid M&S could be the hybridisation of simulation methods (e.g. SD+DES) or hybridisation of a simulation method with data science approach (e.g. Monte Carlo simulation + Machine learning)\n",
    ":::"
   ]
  },
  {
   "cell_type": "code",
   "execution_count": 11,
   "metadata": {},
   "outputs": [],
   "source": [
    "def figure_2(data: pd.DataFrame, figsize: Optional[int | int] = (12, 6)):\n",
    "    \"\"\"\n",
    "    Create bar chart of simulation method used in studies\n",
    "\n",
    "    Parameters:\n",
    "    ---------\n",
    "    data: pd.DataFrame\n",
    "        The cleaned + filtered review data to plot\n",
    "\n",
    "    figsize = Tuple(int, int)\n",
    "        Size of matplotlib figure\n",
    "\n",
    "    Returns:\n",
    "    -------\n",
    "    out: fig and axis of plot\n",
    "    \"\"\"\n",
    "\n",
    "    method_freq = data[\"method\"].value_counts(dropna=False)\n",
    "\n",
    "    return frequency_bar_chart(\n",
    "        data=method_freq, x_label=\"Method\", y_label=\"Frequency\"\n",
    "    )"
   ]
  },
  {
   "cell_type": "code",
   "execution_count": 12,
   "metadata": {},
   "outputs": [
    {
     "data": {
      "image/png": "[encoded data removed]",
      "text/plain": [
       "<Figure size 1200x600 with 1 Axes>"
      ]
     },
     "metadata": {},
     "output_type": "display_data"
    }
   ],
   "source": [
    "fig, ax = figure_2(empirical_studies, False)\n",
    "fig.savefig(\"./figures/figure_2.png\", dpi=300, bbox_inches=\"tight\")\n",
    "_ = fig.suptitle(\"Fig 2. Frequency of Simulation Methods\")"
   ]
  },
  {
   "cell_type": "markdown",
   "metadata": {},
   "source": [
    "### Application area"
   ]
  },
  {
   "cell_type": "code",
   "execution_count": 13,
   "metadata": {},
   "outputs": [],
   "source": [
    "def figure_3(data: pd.DataFrame, figsize: Optional[int | int] = (12, 6)):\n",
    "    \"\"\"Frequency of software/coding language usage as bar chart\n",
    "\n",
    "    Parameters:\n",
    "    ---------\n",
    "    data: pd.DataFrame\n",
    "        The cleaned + filtered review data to plot\n",
    "\n",
    "    figsize = Tuple(int, int)\n",
    "        Size of matplotlib figure\n",
    "\n",
    "    Returns:\n",
    "    -------\n",
    "    out: fig and axis of plot\n",
    "    \"\"\"\n",
    "\n",
    "    freq = data[\"application_area\"].value_counts(dropna=False)\n",
    "\n",
    "    return frequency_bar_chart(\n",
    "        data=freq,\n",
    "        x_label=\"Application area\",\n",
    "        y_label=\"Frequency\",\n",
    "        rotate_x_ticks=90,\n",
    "    )"
   ]
  },
  {
   "cell_type": "code",
   "execution_count": 14,
   "metadata": {},
   "outputs": [
    {
     "data": {
      "image/png": "[encoded data removed]",
      "text/plain": [
       "<Figure size 1200x600 with 1 Axes>"
      ]
     },
     "metadata": {},
     "output_type": "display_data"
    }
   ],
   "source": [
    "fig, ax = figure_3(empirical_studies, False)\n",
    "fig.savefig(\"./figures/figure_3.png\", dpi=300, bbox_inches=\"tight\")\n",
    "_ = fig.suptitle(\"Fig 3. Application area\")"
   ]
  },
  {
   "cell_type": "markdown",
   "metadata": {},
   "source": [
    "### Article Type"
   ]
  },
  {
   "cell_type": "code",
   "execution_count": 15,
   "metadata": {},
   "outputs": [],
   "source": [
    "def figure_4(data: pd.DataFrame, figsize: Optional[int | int] = (12, 6)):\n",
    "    \"\"\"Frequency of software/coding language usage as bar chart\n",
    "\n",
    "    Parameters:\n",
    "    ---------\n",
    "    data: pd.DataFrame\n",
    "        The cleaned + filtered review data to plot\n",
    "\n",
    "    figsize = Tuple(int, int)\n",
    "        Size of matplotlib figure\n",
    "\n",
    "    Returns:\n",
    "    -------\n",
    "    out: fig and axis of plot\n",
    "    \"\"\"\n",
    "\n",
    "    freq = data[\"type_of_paper\"].value_counts(dropna=False)\n",
    "\n",
    "    return frequency_bar_chart(\n",
    "        data=freq,\n",
    "        x_label=\"Application area\",\n",
    "        y_label=\"Frequency\",\n",
    "        rotate_x_ticks=0,\n",
    "    )"
   ]
  },
  {
   "cell_type": "code",
   "execution_count": 16,
   "metadata": {},
   "outputs": [
    {
     "data": {
      "image/png": "[encoded data removed]",
      "text/plain": [
       "<Figure size 1200x600 with 1 Axes>"
      ]
     },
     "metadata": {},
     "output_type": "display_data"
    }
   ],
   "source": [
    "fig, ax = figure_4(empirical_studies, False)\n",
    "fig.savefig(\"./figures/figure_4.png\", dpi=300, bbox_inches=\"tight\")\n",
    "_ = fig.suptitle(\"Fig 4. Breakdown of the literature\")"
   ]
  },
  {
   "cell_type": "markdown",
   "metadata": {},
   "source": [
    "### How was STRESS used?\n",
    "\n",
    "The guideline have been listed either in main text, or in appendix. Also it might be in the form of checklist, structured (that contains the guidelines' elements with  description), and unstructured (which might contain some elements of the guideline)."
   ]
  },
  {
   "cell_type": "code",
   "execution_count": 17,
   "metadata": {},
   "outputs": [],
   "source": [
    "def figure_4(data: pd.DataFrame, figsize: Optional[int | int] = (12, 6)):\n",
    "    \"\"\"Frequency of type of paper\n",
    "\n",
    "    Type of papers that have used STRESS; which includes journal, conference,\n",
    "    workshop, and preprints papers as well as thesis.\n",
    "\n",
    "    Parameters:\n",
    "    ---------\n",
    "    data: pd.DataFrame\n",
    "        The cleaned + filtered review data to plot\n",
    "\n",
    "    figsize = Tuple(int, int)\n",
    "        Size of matplotlib figure\n",
    "\n",
    "    Returns:\n",
    "    -------\n",
    "    out: fig and axis of plot\n",
    "    \"\"\"\n",
    "\n",
    "    freq = data[\"stress_implementation\"].value_counts(dropna=False)\n",
    "\n",
    "    return frequency_bar_chart(\n",
    "        data=freq, x_label=\"Approach\", y_label=\"Frequency\", rotate_x_ticks=90\n",
    "    )"
   ]
  },
  {
   "cell_type": "code",
   "execution_count": 18,
   "metadata": {},
   "outputs": [
    {
     "data": {
      "image/png": "[encoded data removed]",
      "text/plain": [
       "<Figure size 1200x600 with 1 Axes>"
      ]
     },
     "metadata": {},
     "output_type": "display_data"
    }
   ],
   "source": [
    "fig, ax = figure_4(empirical_studies, False)\n",
    "fig.savefig(\"./figures/figure_4.png\", dpi=300, bbox_inches=\"tight\")\n",
    "_ = fig.suptitle(\n",
    "    \"Fig 4. Frequency of Papers Based on How They Implemented STRESS Guidelines\"\n",
    ")"
   ]
  },
  {
   "cell_type": "code",
   "execution_count": 19,
   "metadata": {},
   "outputs": [
    {
     "data": {
      "text/html": [
       "<div>\n",
       "<style scoped>\n",
       "    .dataframe tbody tr th:only-of-type {\n",
       "        vertical-align: middle;\n",
       "    }\n",
       "\n",
       "    .dataframe tbody tr th {\n",
       "        vertical-align: top;\n",
       "    }\n",
       "\n",
       "    .dataframe thead th {\n",
       "        text-align: right;\n",
       "    }\n",
       "</style>\n",
       "<table border=\"1\" class=\"dataframe\">\n",
       "  <thead>\n",
       "    <tr style=\"text-align: right;\">\n",
       "      <th></th>\n",
       "      <th>publication</th>\n",
       "      <th>authors</th>\n",
       "      <th>year</th>\n",
       "      <th>type_of_paper</th>\n",
       "      <th>journal</th>\n",
       "      <th>name_of_univerity</th>\n",
       "      <th>type_of_study</th>\n",
       "      <th>pre_prints</th>\n",
       "      <th>doi</th>\n",
       "      <th>used</th>\n",
       "      <th>...</th>\n",
       "      <th>stress_logic</th>\n",
       "      <th>stress_logic</th>\n",
       "      <th>stress_exp</th>\n",
       "      <th>stress_imp</th>\n",
       "      <th>stress_code</th>\n",
       "      <th>source_code_access</th>\n",
       "      <th>software</th>\n",
       "      <th>application_area</th>\n",
       "      <th>case_study</th>\n",
       "      <th>stress_implementation</th>\n",
       "    </tr>\n",
       "    <tr>\n",
       "      <th>No</th>\n",
       "      <th></th>\n",
       "      <th></th>\n",
       "      <th></th>\n",
       "      <th></th>\n",
       "      <th></th>\n",
       "      <th></th>\n",
       "      <th></th>\n",
       "      <th></th>\n",
       "      <th></th>\n",
       "      <th></th>\n",
       "      <th></th>\n",
       "      <th></th>\n",
       "      <th></th>\n",
       "      <th></th>\n",
       "      <th></th>\n",
       "      <th></th>\n",
       "      <th></th>\n",
       "      <th></th>\n",
       "      <th></th>\n",
       "      <th></th>\n",
       "      <th></th>\n",
       "    </tr>\n",
       "  </thead>\n",
       "  <tbody>\n",
       "    <tr>\n",
       "      <th>51</th>\n",
       "      <td>Intubation Biomechanics: Clinical Implications...</td>\n",
       "      <td>Gadomski, Benjamin C., Bradley J. Hindman, Mit...</td>\n",
       "      <td>2021</td>\n",
       "      <td>Journal</td>\n",
       "      <td>Anesthesiology</td>\n",
       "      <td>-</td>\n",
       "      <td>Empirical</td>\n",
       "      <td>No</td>\n",
       "      <td>https://doi.org/10.1097/ALN.0000000000004024</td>\n",
       "      <td>Yes</td>\n",
       "      <td>...</td>\n",
       "      <td>NaN</td>\n",
       "      <td>NaN</td>\n",
       "      <td>NaN</td>\n",
       "      <td>NaN</td>\n",
       "      <td>NaN</td>\n",
       "      <td>No</td>\n",
       "      <td>ABAQUS</td>\n",
       "      <td>Biomechanics</td>\n",
       "      <td>Motion and spinal cord strain</td>\n",
       "      <td>NaN</td>\n",
       "    </tr>\n",
       "    <tr>\n",
       "      <th>64</th>\n",
       "      <td>Modelling a Computed Tomography service using ...</td>\n",
       "      <td>Conlon, Mary, and Owen Molloy</td>\n",
       "      <td>2023</td>\n",
       "      <td>Journal</td>\n",
       "      <td>Journal of Simulation</td>\n",
       "      <td>-</td>\n",
       "      <td>Empirical - replication</td>\n",
       "      <td>No</td>\n",
       "      <td>https://doi.org/10.1080/17477778.2022.2152394</td>\n",
       "      <td>Yes</td>\n",
       "      <td>...</td>\n",
       "      <td>NaN</td>\n",
       "      <td>NaN</td>\n",
       "      <td>NaN</td>\n",
       "      <td>NaN</td>\n",
       "      <td>NaN</td>\n",
       "      <td>No</td>\n",
       "      <td>Unknown</td>\n",
       "      <td>Healthcare</td>\n",
       "      <td>Computed Tomography service</td>\n",
       "      <td>NaN</td>\n",
       "    </tr>\n",
       "    <tr>\n",
       "      <th>138</th>\n",
       "      <td>Network analysis of simulated and real indigen...</td>\n",
       "      <td>Stokes, Alex</td>\n",
       "      <td>2020</td>\n",
       "      <td>Thesis</td>\n",
       "      <td>University of Southampton</td>\n",
       "      <td>University of Southampton</td>\n",
       "      <td>Master Thesis</td>\n",
       "      <td>No</td>\n",
       "      <td>https://eprints.soton.ac.uk/453033/1/Alex_Stok...</td>\n",
       "      <td>Yes</td>\n",
       "      <td>...</td>\n",
       "      <td>NaN</td>\n",
       "      <td>NaN</td>\n",
       "      <td>NaN</td>\n",
       "      <td>NaN</td>\n",
       "      <td>NaN</td>\n",
       "      <td>No</td>\n",
       "      <td>Python</td>\n",
       "      <td>Geography &amp; environmental science</td>\n",
       "      <td>Irrigation system</td>\n",
       "      <td>NaN</td>\n",
       "    </tr>\n",
       "  </tbody>\n",
       "</table>\n",
       "<p>3 rows × 25 columns</p>\n",
       "</div>"
      ],
      "text/plain": [
       "                                           publication  \\\n",
       "No                                                       \n",
       "51   Intubation Biomechanics: Clinical Implications...   \n",
       "64   Modelling a Computed Tomography service using ...   \n",
       "138  Network analysis of simulated and real indigen...   \n",
       "\n",
       "                                               authors  year type_of_paper  \\\n",
       "No                                                                           \n",
       "51   Gadomski, Benjamin C., Bradley J. Hindman, Mit...  2021       Journal   \n",
       "64                       Conlon, Mary, and Owen Molloy  2023       Journal   \n",
       "138                                       Stokes, Alex  2020        Thesis   \n",
       "\n",
       "                       journal          name_of_univerity  \\\n",
       "No                                                          \n",
       "51              Anesthesiology                          -   \n",
       "64       Journal of Simulation                          -   \n",
       "138  University of Southampton  University of Southampton   \n",
       "\n",
       "               type_of_study pre_prints  \\\n",
       "No                                        \n",
       "51                 Empirical         No   \n",
       "64   Empirical - replication         No   \n",
       "138            Master Thesis         No   \n",
       "\n",
       "                                                   doi used  ... stress_logic  \\\n",
       "No                                                           ...                \n",
       "51        https://doi.org/10.1097/ALN.0000000000004024  Yes  ...          NaN   \n",
       "64       https://doi.org/10.1080/17477778.2022.2152394  Yes  ...          NaN   \n",
       "138  https://eprints.soton.ac.uk/453033/1/Alex_Stok...  Yes  ...          NaN   \n",
       "\n",
       "    stress_logic stress_exp stress_imp stress_code source_code_access  \\\n",
       "No                                                                      \n",
       "51           NaN        NaN        NaN         NaN                 No   \n",
       "64           NaN        NaN        NaN         NaN                 No   \n",
       "138          NaN        NaN        NaN         NaN                 No   \n",
       "\n",
       "    software                   application_area  \\\n",
       "No                                                \n",
       "51    ABAQUS                       Biomechanics   \n",
       "64   Unknown                         Healthcare   \n",
       "138   Python  Geography & environmental science   \n",
       "\n",
       "                        case_study stress_implementation  \n",
       "No                                                        \n",
       "51   Motion and spinal cord strain                   NaN  \n",
       "64     Computed Tomography service                   NaN  \n",
       "138              Irrigation system                   NaN  \n",
       "\n",
       "[3 rows x 25 columns]"
      ]
     },
     "execution_count": 19,
     "metadata": {},
     "output_type": "execute_result"
    }
   ],
   "source": [
    "empirical_studies[empirical_studies[\"stress_implementation\"].isna()]"
   ]
  },
  {
   "cell_type": "code",
   "execution_count": 20,
   "metadata": {},
   "outputs": [
    {
     "data": {
      "text/plain": [
       "stress_implementation\n",
       "Structured - Main text      26\n",
       "Checklist - Appendix        18\n",
       "Unstructured - Appendix     12\n",
       "Unstructured - Main text     7\n",
       "Structured - Appendix        6\n",
       "NaN                          3\n",
       "Checklist - Main text        1\n",
       "Name: count, dtype: int64"
      ]
     },
     "execution_count": 20,
     "metadata": {},
     "output_type": "execute_result"
    }
   ],
   "source": [
    "empirical_studies[\"stress_implementation\"].value_counts(dropna=False)"
   ]
  },
  {
   "cell_type": "markdown",
   "metadata": {},
   "source": [
    "### Usage by Journal/conference/other\n",
    "\n",
    "> **TM query**: Computational Management Science appears twice? small different in raw data recording?\n",
    "\n",
    ">  **TM query**: There are 3 univrsity of southampton and 2 Lancaster Uni publications. I think we need to double check that we are not double counting with academic journals or conference papers."
   ]
  },
  {
   "cell_type": "code",
   "execution_count": 21,
   "metadata": {},
   "outputs": [],
   "source": [
    "def unique_journal_table(data: pd.DataFrame) -> pd.DataFrame:\n",
    "    '''Return a list of unique journals and their frequency\n",
    "    from the pass in dataset. Assumes column called \"journal\" exists.\n",
    "\n",
    "    1. Calculate frequency per journal\n",
    "    2. reset_index\n",
    "    3. Rename columns\n",
    "    4. Create percentage column\n",
    "    5. set index as \"Journal\" column\n",
    "    '''\n",
    "    table = (data[\"journal\"].value_counts(dropna=False)\n",
    "            .reset_index()\n",
    "            .rename(columns={\"journal\": \"Journal\", \"count\": \"Count\"})\n",
    "            .assign(Percent= lambda x: x['Count'] / len(data) * 100)\n",
    "            .set_index([\"Journal\"])\n",
    "    )\n",
    "    return table"
   ]
  },
  {
   "cell_type": "code",
   "execution_count": 22,
   "metadata": {},
   "outputs": [
    {
     "data": {
      "text/html": [
       "<div>\n",
       "<style scoped>\n",
       "    .dataframe tbody tr th:only-of-type {\n",
       "        vertical-align: middle;\n",
       "    }\n",
       "\n",
       "    .dataframe tbody tr th {\n",
       "        vertical-align: top;\n",
       "    }\n",
       "\n",
       "    .dataframe thead th {\n",
       "        text-align: right;\n",
       "    }\n",
       "</style>\n",
       "<table border=\"1\" class=\"dataframe\">\n",
       "  <thead>\n",
       "    <tr style=\"text-align: right;\">\n",
       "      <th></th>\n",
       "      <th>Count</th>\n",
       "      <th>Percent</th>\n",
       "    </tr>\n",
       "    <tr>\n",
       "      <th>Journal</th>\n",
       "      <th></th>\n",
       "      <th></th>\n",
       "    </tr>\n",
       "  </thead>\n",
       "  <tbody>\n",
       "    <tr>\n",
       "      <th>Journal of Simulation</th>\n",
       "      <td>11</td>\n",
       "      <td>15.1</td>\n",
       "    </tr>\n",
       "    <tr>\n",
       "      <th>Winter Simulation Conference</th>\n",
       "      <td>6</td>\n",
       "      <td>8.2</td>\n",
       "    </tr>\n",
       "    <tr>\n",
       "      <th>BMJ</th>\n",
       "      <td>4</td>\n",
       "      <td>5.5</td>\n",
       "    </tr>\n",
       "    <tr>\n",
       "      <th>University of Southampton</th>\n",
       "      <td>3</td>\n",
       "      <td>4.1</td>\n",
       "    </tr>\n",
       "    <tr>\n",
       "      <th>Proceedings of the Operational Research Society Simulation Workshop</th>\n",
       "      <td>3</td>\n",
       "      <td>4.1</td>\n",
       "    </tr>\n",
       "    <tr>\n",
       "      <th>Operations Research for Health Care</th>\n",
       "      <td>3</td>\n",
       "      <td>4.1</td>\n",
       "    </tr>\n",
       "    <tr>\n",
       "      <th>JAMA</th>\n",
       "      <td>2</td>\n",
       "      <td>2.7</td>\n",
       "    </tr>\n",
       "    <tr>\n",
       "      <th>Lancaster University</th>\n",
       "      <td>2</td>\n",
       "      <td>2.7</td>\n",
       "    </tr>\n",
       "    <tr>\n",
       "      <th>Healthcare</th>\n",
       "      <td>2</td>\n",
       "      <td>2.7</td>\n",
       "    </tr>\n",
       "    <tr>\n",
       "      <th>Plos one</th>\n",
       "      <td>2</td>\n",
       "      <td>2.7</td>\n",
       "    </tr>\n",
       "    <tr>\n",
       "      <th>Health Care Management Science</th>\n",
       "      <td>2</td>\n",
       "      <td>2.7</td>\n",
       "    </tr>\n",
       "    <tr>\n",
       "      <th>Health Systems</th>\n",
       "      <td>2</td>\n",
       "      <td>2.7</td>\n",
       "    </tr>\n",
       "    <tr>\n",
       "      <th>Journal of the Operational Research Society</th>\n",
       "      <td>2</td>\n",
       "      <td>2.7</td>\n",
       "    </tr>\n",
       "    <tr>\n",
       "      <th>Istanbul Business Research</th>\n",
       "      <td>2</td>\n",
       "      <td>2.7</td>\n",
       "    </tr>\n",
       "    <tr>\n",
       "      <th>BMC Health Services Research</th>\n",
       "      <td>2</td>\n",
       "      <td>2.7</td>\n",
       "    </tr>\n",
       "    <tr>\n",
       "      <th>medRxiv</th>\n",
       "      <td>2</td>\n",
       "      <td>2.7</td>\n",
       "    </tr>\n",
       "    <tr>\n",
       "      <th>International Journal of Nursing Studies</th>\n",
       "      <td>1</td>\n",
       "      <td>1.4</td>\n",
       "    </tr>\n",
       "    <tr>\n",
       "      <th>Health and Social Care Delivery Research</th>\n",
       "      <td>1</td>\n",
       "      <td>1.4</td>\n",
       "    </tr>\n",
       "    <tr>\n",
       "      <th>Plos Medicine</th>\n",
       "      <td>1</td>\n",
       "      <td>1.4</td>\n",
       "    </tr>\n",
       "    <tr>\n",
       "      <th>Anesthesiology</th>\n",
       "      <td>1</td>\n",
       "      <td>1.4</td>\n",
       "    </tr>\n",
       "    <tr>\n",
       "      <th>Frontiers in Oncology</th>\n",
       "      <td>1</td>\n",
       "      <td>1.4</td>\n",
       "    </tr>\n",
       "    <tr>\n",
       "      <th>Value in Health</th>\n",
       "      <td>1</td>\n",
       "      <td>1.4</td>\n",
       "    </tr>\n",
       "    <tr>\n",
       "      <th>Medical Decision Making</th>\n",
       "      <td>1</td>\n",
       "      <td>1.4</td>\n",
       "    </tr>\n",
       "    <tr>\n",
       "      <th>Water</th>\n",
       "      <td>1</td>\n",
       "      <td>1.4</td>\n",
       "    </tr>\n",
       "    <tr>\n",
       "      <th>cancers</th>\n",
       "      <td>1</td>\n",
       "      <td>1.4</td>\n",
       "    </tr>\n",
       "    <tr>\n",
       "      <th>arXiv</th>\n",
       "      <td>1</td>\n",
       "      <td>1.4</td>\n",
       "    </tr>\n",
       "    <tr>\n",
       "      <th>Contemporary Clinical Trials</th>\n",
       "      <td>1</td>\n",
       "      <td>1.4</td>\n",
       "    </tr>\n",
       "    <tr>\n",
       "      <th>Computational Management Science</th>\n",
       "      <td>1</td>\n",
       "      <td>1.4</td>\n",
       "    </tr>\n",
       "    <tr>\n",
       "      <th>Journal of Evaluation in Clinical Practice</th>\n",
       "      <td>1</td>\n",
       "      <td>1.4</td>\n",
       "    </tr>\n",
       "    <tr>\n",
       "      <th>Electronics</th>\n",
       "      <td>1</td>\n",
       "      <td>1.4</td>\n",
       "    </tr>\n",
       "    <tr>\n",
       "      <th>Translational Lung Cancer Research</th>\n",
       "      <td>1</td>\n",
       "      <td>1.4</td>\n",
       "    </tr>\n",
       "    <tr>\n",
       "      <th>Cureus</th>\n",
       "      <td>1</td>\n",
       "      <td>1.4</td>\n",
       "    </tr>\n",
       "    <tr>\n",
       "      <th>Frontiers in Neurology</th>\n",
       "      <td>1</td>\n",
       "      <td>1.4</td>\n",
       "    </tr>\n",
       "    <tr>\n",
       "      <th>OSF</th>\n",
       "      <td>1</td>\n",
       "      <td>1.4</td>\n",
       "    </tr>\n",
       "    <tr>\n",
       "      <th>Stroke</th>\n",
       "      <td>1</td>\n",
       "      <td>1.4</td>\n",
       "    </tr>\n",
       "    <tr>\n",
       "      <th>NaN</th>\n",
       "      <td>1</td>\n",
       "      <td>1.4</td>\n",
       "    </tr>\n",
       "    <tr>\n",
       "      <th>Norwegian University of Science and Technology</th>\n",
       "      <td>1</td>\n",
       "      <td>1.4</td>\n",
       "    </tr>\n",
       "    <tr>\n",
       "      <th>National University of Irland</th>\n",
       "      <td>1</td>\n",
       "      <td>1.4</td>\n",
       "    </tr>\n",
       "    <tr>\n",
       "      <th>Computational Management Science</th>\n",
       "      <td>1</td>\n",
       "      <td>1.4</td>\n",
       "    </tr>\n",
       "  </tbody>\n",
       "</table>\n",
       "</div>"
      ],
      "text/plain": [
       "                                                    Count  Percent\n",
       "Journal                                                           \n",
       "Journal of Simulation                                  11     15.1\n",
       "Winter Simulation Conference                            6      8.2\n",
       "BMJ                                                     4      5.5\n",
       "University of Southampton                               3      4.1\n",
       "Proceedings of the Operational Research Society...      3      4.1\n",
       "Operations Research for Health Care                     3      4.1\n",
       "JAMA                                                    2      2.7\n",
       "Lancaster University                                    2      2.7\n",
       "Healthcare                                              2      2.7\n",
       "Plos one                                                2      2.7\n",
       "Health Care Management Science                          2      2.7\n",
       "Health Systems                                          2      2.7\n",
       "Journal of the Operational Research Society             2      2.7\n",
       "Istanbul Business Research                              2      2.7\n",
       "BMC Health Services Research                            2      2.7\n",
       "medRxiv                                                 2      2.7\n",
       "International Journal of Nursing Studies                1      1.4\n",
       "Health and Social Care Delivery Research                1      1.4\n",
       "Plos Medicine                                           1      1.4\n",
       "Anesthesiology                                          1      1.4\n",
       "Frontiers in Oncology                                   1      1.4\n",
       "Value in Health                                         1      1.4\n",
       "Medical Decision Making                                 1      1.4\n",
       "Water                                                   1      1.4\n",
       "cancers                                                 1      1.4\n",
       "arXiv                                                   1      1.4\n",
       "Contemporary Clinical Trials                            1      1.4\n",
       "Computational Management Science                        1      1.4\n",
       "Journal of Evaluation in Clinical Practice              1      1.4\n",
       "Electronics                                             1      1.4\n",
       "Translational Lung Cancer Research                      1      1.4\n",
       "Cureus                                                  1      1.4\n",
       "Frontiers in Neurology                                  1      1.4\n",
       "OSF                                                     1      1.4\n",
       "Stroke                                                  1      1.4\n",
       "NaN                                                     1      1.4\n",
       "Norwegian University of Science and Technology          1      1.4\n",
       "National University of Irland                           1      1.4\n",
       "Computational Management Science                        1      1.4"
      ]
     },
     "execution_count": 22,
     "metadata": {},
     "output_type": "execute_result"
    }
   ],
   "source": [
    "unique_journal_table(empirical_studies).round(1)"
   ]
  },
  {
   "cell_type": "markdown",
   "metadata": {},
   "source": [
    "### Full versus partial usage of STRESS sections"
   ]
  },
  {
   "cell_type": "code",
   "execution_count": 23,
   "metadata": {},
   "outputs": [],
   "source": [
    "def partial_use_of_stress(data: pd.DataFrame) -> pd.DataFrame:\n",
    "    '''\n",
    "    Tabularise the count and percentage of studies that made partial or full\n",
    "    use of STRESS guidelines in their paper.\n",
    "    '''\n",
    "    table = (\n",
    "        empirical_studies[\"partially\"].value_counts()\n",
    "        .reset_index()\n",
    "        .rename(columns={\"partially\": \"Partial\", \"count\": \"Count\"})\n",
    "        .assign(Percent= lambda x: x['Count'] / len(data) * 100)\n",
    "        .set_index([\"Partial\"])\n",
    "    )\n",
    "    \n",
    "    # Print the resulting DataFrame\n",
    "    return table"
   ]
  },
  {
   "cell_type": "code",
   "execution_count": 24,
   "metadata": {},
   "outputs": [
    {
     "data": {
      "text/html": [
       "<div>\n",
       "<style scoped>\n",
       "    .dataframe tbody tr th:only-of-type {\n",
       "        vertical-align: middle;\n",
       "    }\n",
       "\n",
       "    .dataframe tbody tr th {\n",
       "        vertical-align: top;\n",
       "    }\n",
       "\n",
       "    .dataframe thead th {\n",
       "        text-align: right;\n",
       "    }\n",
       "</style>\n",
       "<table border=\"1\" class=\"dataframe\">\n",
       "  <thead>\n",
       "    <tr style=\"text-align: right;\">\n",
       "      <th></th>\n",
       "      <th>Count</th>\n",
       "      <th>Percent</th>\n",
       "    </tr>\n",
       "    <tr>\n",
       "      <th>Partial</th>\n",
       "      <th></th>\n",
       "      <th></th>\n",
       "    </tr>\n",
       "  </thead>\n",
       "  <tbody>\n",
       "    <tr>\n",
       "      <th>Yes</th>\n",
       "      <td>45</td>\n",
       "      <td>61.6</td>\n",
       "    </tr>\n",
       "    <tr>\n",
       "      <th>No</th>\n",
       "      <td>25</td>\n",
       "      <td>34.2</td>\n",
       "    </tr>\n",
       "    <tr>\n",
       "      <th>DP</th>\n",
       "      <td>0</td>\n",
       "      <td>0.0</td>\n",
       "    </tr>\n",
       "  </tbody>\n",
       "</table>\n",
       "</div>"
      ],
      "text/plain": [
       "         Count  Percent\n",
       "Partial                \n",
       "Yes         45     61.6\n",
       "No          25     34.2\n",
       "DP           0      0.0"
      ]
     },
     "execution_count": 24,
     "metadata": {},
     "output_type": "execute_result"
    }
   ],
   "source": [
    "partial_use_of_stress(empirical_studies).round(1)"
   ]
  },
  {
   "cell_type": "markdown",
   "metadata": {},
   "source": [
    "### Is the coded model available?\n",
    "\n",
    "* **TM Note**: The % availability of coded models is higher in papers where authors have used STRESS when compared to the general DES in health papers (8%). Is this due a STRESS effect or because other types of study are included ABS/SD?"
   ]
  },
  {
   "cell_type": "code",
   "execution_count": 25,
   "metadata": {},
   "outputs": [],
   "source": [
    "def is_coded_model_available(data: pd.DataFrame) -> pd.DataFrame:\n",
    "    '''\n",
    "    Tabularise if authors have made code available or not or if it available\n",
    "    upon request.\n",
    "    '''\n",
    "    \n",
    "    table = (\n",
    "        data[\"source_code_access\"].value_counts(dropna=False)\n",
    "        .reset_index()\n",
    "        .rename(columns={\"source_code_access\": \"Model code available\", \n",
    "                         \"count\": \"Count\"})\n",
    "        .assign(Percent= lambda x: x['Count'] / len(data) * 100)\n",
    "        .set_index([\"Model code available\"])\n",
    "    )\n",
    "    return table"
   ]
  },
  {
   "cell_type": "code",
   "execution_count": 26,
   "metadata": {},
   "outputs": [
    {
     "data": {
      "text/html": [
       "<div>\n",
       "<style scoped>\n",
       "    .dataframe tbody tr th:only-of-type {\n",
       "        vertical-align: middle;\n",
       "    }\n",
       "\n",
       "    .dataframe tbody tr th {\n",
       "        vertical-align: top;\n",
       "    }\n",
       "\n",
       "    .dataframe thead th {\n",
       "        text-align: right;\n",
       "    }\n",
       "</style>\n",
       "<table border=\"1\" class=\"dataframe\">\n",
       "  <thead>\n",
       "    <tr style=\"text-align: right;\">\n",
       "      <th></th>\n",
       "      <th>Count</th>\n",
       "      <th>Percent</th>\n",
       "    </tr>\n",
       "    <tr>\n",
       "      <th>Model code available</th>\n",
       "      <th></th>\n",
       "      <th></th>\n",
       "    </tr>\n",
       "  </thead>\n",
       "  <tbody>\n",
       "    <tr>\n",
       "      <th>No</th>\n",
       "      <td>39</td>\n",
       "      <td>53.4</td>\n",
       "    </tr>\n",
       "    <tr>\n",
       "      <th>Yes</th>\n",
       "      <td>23</td>\n",
       "      <td>31.5</td>\n",
       "    </tr>\n",
       "    <tr>\n",
       "      <th>Upon request</th>\n",
       "      <td>11</td>\n",
       "      <td>15.1</td>\n",
       "    </tr>\n",
       "  </tbody>\n",
       "</table>\n",
       "</div>"
      ],
      "text/plain": [
       "                      Count  Percent\n",
       "Model code available                \n",
       "No                       39     53.4\n",
       "Yes                      23     31.5\n",
       "Upon request             11     15.1"
      ]
     },
     "execution_count": 26,
     "metadata": {},
     "output_type": "execute_result"
    }
   ],
   "source": [
    "is_coded_model_available(empirical_studies).round(1)"
   ]
  },
  {
   "cell_type": "markdown",
   "metadata": {},
   "source": [
    "## Model availability break down by method\n",
    "\n",
    "This shows that DES model availability percentage was ~34% (13 of 38 models). This is a higher than Monks and Harper (2023) found when they looked at the literature overall ~8%. However, far fewer studies use STRESS than don't.\n",
    "\n",
    "Best to only consider DES and ABS due to sample sizes."
   ]
  },
  {
   "cell_type": "code",
   "execution_count": 27,
   "metadata": {},
   "outputs": [],
   "source": [
    "def filter_to_used_column(data: pd.DataFrame) -> pd.DataFrame:\n",
    "    '''Pipeline helper: returns only the used column from the dataframe'''\n",
    "    return data['used']"
   ]
  },
  {
   "cell_type": "code",
   "execution_count": 28,
   "metadata": {},
   "outputs": [],
   "source": [
    "def total_column_first(data: pd.DataFrame) -> pd.DataFrame:\n",
    "    '''Pipeline helper: returns df columns reordered to have overall/total\n",
    "    column appear first'''\n",
    "    sorted_columns = ['n', 'Yes', 'No', 'Upon request', 'PercentYes']\n",
    "    return data[sorted_columns]"
   ]
  },
  {
   "cell_type": "code",
   "execution_count": 29,
   "metadata": {},
   "outputs": [],
   "source": [
    "def model_available_by_method(data: pd.DataFrame) -> pd.DataFrame:\n",
    "    '''\n",
    "    Tabularise if authors have made code available split by simulation\n",
    "    method\n",
    "    '''    \n",
    "    table = (\n",
    "        data.groupby(by=['source_code_access', 'method'], observed=True)\n",
    "        .count()\n",
    "        .pivot_table(columns=['method'], index=['source_code_access'], \n",
    "                    observed=True)\n",
    "        .fillna(value=0)\n",
    "        .reset_index()\n",
    "        .set_index('source_code_access')\n",
    "        # drop all columns other than use\n",
    "        .pipe(filter_to_used_column)\n",
    "        .T.assign(n=lambda x: x.sum(axis=1),\n",
    "                  PercentYes=lambda x: x['Yes'] / x['n'] * 100)\n",
    "        .pipe(total_column_first)\n",
    "        .astype({'n':int, 'Yes': int, 'No': int, 'Upon request': int})\n",
    "    )\n",
    "    return table"
   ]
  },
  {
   "cell_type": "code",
   "execution_count": 30,
   "metadata": {},
   "outputs": [
    {
     "data": {
      "text/html": [
       "<div>\n",
       "<style scoped>\n",
       "    .dataframe tbody tr th:only-of-type {\n",
       "        vertical-align: middle;\n",
       "    }\n",
       "\n",
       "    .dataframe tbody tr th {\n",
       "        vertical-align: top;\n",
       "    }\n",
       "\n",
       "    .dataframe thead th {\n",
       "        text-align: right;\n",
       "    }\n",
       "</style>\n",
       "<table border=\"1\" class=\"dataframe\">\n",
       "  <thead>\n",
       "    <tr style=\"text-align: right;\">\n",
       "      <th>source_code_access</th>\n",
       "      <th>n</th>\n",
       "      <th>Yes</th>\n",
       "      <th>No</th>\n",
       "      <th>Upon request</th>\n",
       "      <th>PercentYes</th>\n",
       "    </tr>\n",
       "    <tr>\n",
       "      <th>method</th>\n",
       "      <th></th>\n",
       "      <th></th>\n",
       "      <th></th>\n",
       "      <th></th>\n",
       "      <th></th>\n",
       "    </tr>\n",
       "  </thead>\n",
       "  <tbody>\n",
       "    <tr>\n",
       "      <th>ABS</th>\n",
       "      <td>14</td>\n",
       "      <td>2</td>\n",
       "      <td>7</td>\n",
       "      <td>5</td>\n",
       "      <td>14.3</td>\n",
       "    </tr>\n",
       "    <tr>\n",
       "      <th>DES</th>\n",
       "      <td>38</td>\n",
       "      <td>13</td>\n",
       "      <td>20</td>\n",
       "      <td>5</td>\n",
       "      <td>34.2</td>\n",
       "    </tr>\n",
       "    <tr>\n",
       "      <th>Hybrid M&amp;S</th>\n",
       "      <td>7</td>\n",
       "      <td>2</td>\n",
       "      <td>4</td>\n",
       "      <td>1</td>\n",
       "      <td>28.6</td>\n",
       "    </tr>\n",
       "    <tr>\n",
       "      <th>Micro Simulation</th>\n",
       "      <td>2</td>\n",
       "      <td>1</td>\n",
       "      <td>1</td>\n",
       "      <td>0</td>\n",
       "      <td>50.0</td>\n",
       "    </tr>\n",
       "    <tr>\n",
       "      <th>Monte Carlo</th>\n",
       "      <td>6</td>\n",
       "      <td>2</td>\n",
       "      <td>4</td>\n",
       "      <td>0</td>\n",
       "      <td>33.3</td>\n",
       "    </tr>\n",
       "    <tr>\n",
       "      <th>SD</th>\n",
       "      <td>5</td>\n",
       "      <td>3</td>\n",
       "      <td>2</td>\n",
       "      <td>0</td>\n",
       "      <td>60.0</td>\n",
       "    </tr>\n",
       "    <tr>\n",
       "      <th>Unknown</th>\n",
       "      <td>1</td>\n",
       "      <td>0</td>\n",
       "      <td>1</td>\n",
       "      <td>0</td>\n",
       "      <td>0.0</td>\n",
       "    </tr>\n",
       "  </tbody>\n",
       "</table>\n",
       "</div>"
      ],
      "text/plain": [
       "source_code_access   n  Yes  No  Upon request  PercentYes\n",
       "method                                                   \n",
       "ABS                 14    2   7             5        14.3\n",
       "DES                 38   13  20             5        34.2\n",
       "Hybrid M&S           7    2   4             1        28.6\n",
       "Micro Simulation     2    1   1             0        50.0\n",
       "Monte Carlo          6    2   4             0        33.3\n",
       "SD                   5    3   2             0        60.0\n",
       "Unknown              1    0   1             0         0.0"
      ]
     },
     "execution_count": 30,
     "metadata": {},
     "output_type": "execute_result"
    }
   ],
   "source": [
    "df = model_available_by_method(empirical_studies)\n",
    "df.round(1)"
   ]
  },
  {
   "cell_type": "markdown",
   "metadata": {},
   "source": [
    "### How many of the publications contain at least one author from STRESS 1.0?\n",
    "\n",
    "> TM note: As finding target authors was manual we need at least one other person to repeat this process. We can then compare results.\n",
    "> TM note: FA wrote some code to create this column. Need to revisit."
   ]
  },
  {
   "cell_type": "code",
   "execution_count": 31,
   "metadata": {},
   "outputs": [
    {
     "data": {
      "text/html": [
       "<div>\n",
       "<style scoped>\n",
       "    .dataframe tbody tr th:only-of-type {\n",
       "        vertical-align: middle;\n",
       "    }\n",
       "\n",
       "    .dataframe tbody tr th {\n",
       "        vertical-align: top;\n",
       "    }\n",
       "\n",
       "    .dataframe thead th {\n",
       "        text-align: right;\n",
       "    }\n",
       "</style>\n",
       "<table border=\"1\" class=\"dataframe\">\n",
       "  <thead>\n",
       "    <tr style=\"text-align: right;\">\n",
       "      <th></th>\n",
       "      <th>count</th>\n",
       "    </tr>\n",
       "    <tr>\n",
       "      <th>target_authors</th>\n",
       "      <th></th>\n",
       "    </tr>\n",
       "  </thead>\n",
       "  <tbody>\n",
       "    <tr>\n",
       "      <th>No</th>\n",
       "      <td>59</td>\n",
       "    </tr>\n",
       "    <tr>\n",
       "      <th>Yes</th>\n",
       "      <td>14</td>\n",
       "    </tr>\n",
       "  </tbody>\n",
       "</table>\n",
       "</div>"
      ],
      "text/plain": [
       "                count\n",
       "target_authors       \n",
       "No                 59\n",
       "Yes                14"
      ]
     },
     "execution_count": 31,
     "metadata": {},
     "output_type": "execute_result"
    }
   ],
   "source": [
    "pd.DataFrame(empirical_studies['target_authors'].value_counts(dropna=False))"
   ]
  }
 ],
 "metadata": {
  "kernelspec": {
   "display_name": "Python 3 (ipykernel)",
   "language": "python",
   "name": "python3"
  },
  "language_info": {
   "codemirror_mode": {
    "name": "ipython",
    "version": 3
   },
   "file_extension": ".py",
   "mimetype": "text/x-python",
   "name": "python",
   "nbconvert_exporter": "python",
   "pygments_lexer": "ipython3",
   "version": "3.11.10"
  }
 },
 "nbformat": 4,
 "nbformat_minor": 4
}
